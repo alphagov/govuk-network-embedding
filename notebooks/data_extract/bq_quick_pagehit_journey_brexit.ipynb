{
 "cells": [
  {
   "cell_type": "code",
   "execution_count": 1,
   "metadata": {},
   "outputs": [],
   "source": [
    "import pandas as pd\n",
    "import os\n",
    "import logging\n",
    "import sys"
   ]
  },
  {
   "cell_type": "markdown",
   "metadata": {},
   "source": [
    "### Load environment vars and directories"
   ]
  },
  {
   "cell_type": "code",
   "execution_count": 2,
   "metadata": {},
   "outputs": [],
   "source": [
    "KEY_DIR = os.path.join(os.getenv(\"DOCUMENTS\"), \"govuk-network-data\", \"key\")\n",
    "KEY_PATH = os.path.join(KEY_DIR, os.listdir(KEY_DIR)[0])\n",
    "PROJECT_ID = \"govuk-bigquery-analytics\""
   ]
  },
  {
   "cell_type": "markdown",
   "metadata": {},
   "source": [
    "#### Logging for `pandas_gbq`"
   ]
  },
  {
   "cell_type": "code",
   "execution_count": 3,
   "metadata": {},
   "outputs": [],
   "source": [
    "logger = logging.getLogger('pandas_gbq')\n",
    "logger.setLevel(logging.DEBUG)\n",
    "logger.addHandler(logging.StreamHandler(stream=sys.stdout))"
   ]
  },
  {
   "cell_type": "markdown",
   "metadata": {},
   "source": [
    "### Extract page-hit only user journeys for February 11 to 18\n",
    "8.8 GB"
   ]
  },
  {
   "cell_type": "code",
   "execution_count": 22,
   "metadata": {},
   "outputs": [],
   "source": [
    "query = \"\"\"SELECT\n",
    "  COUNT(*) AS Occurrences,\n",
    "  PageSeq_Length,\n",
    "  PageSequence\n",
    "FROM (\n",
    "  SELECT\n",
    "    *\n",
    "  FROM (\n",
    "    SELECT\n",
    "      CONCAT(fullVisitorId,\"-\",CAST(visitId AS STRING),\"-\",CAST(visitNumber AS STRING)) AS sessionId,\n",
    "      STRING_AGG(CONCAT(pagePath,\"<<\",CONCAT(htype,\"<:<\",IFNULL(eventCategory,\n",
    "              \"NULL\"),\"<:<\",IFNULL(eventAction,\n",
    "              \"NULL\")),\"<<\",taxon), \">>\") OVER (PARTITION BY fullVisitorId, visitId ORDER BY hitNumber ROWS BETWEEN UNBOUNDED PRECEDING AND UNBOUNDED FOLLOWING ) AS Sequence,\n",
    "      STRING_AGG(IF(htype = 'PAGE',\n",
    "          pagePath,\n",
    "          NULL),\">>\") OVER (PARTITION BY fullVisitorId, visitId ORDER BY hitNumber ROWS BETWEEN UNBOUNDED PRECEDING AND UNBOUNDED FOLLOWING ) AS PageSequence,\n",
    "      SUM(IF(htype='PAGE',\n",
    "          1,\n",
    "          0)) OVER (PARTITION BY fullVisitorId, visitId ORDER BY hitNumber ROWS BETWEEN UNBOUNDED PRECEDING AND UNBOUNDED FOLLOWING ) AS PageSeq_Length\n",
    "    FROM (\n",
    "      SELECT\n",
    "        fullVisitorId,\n",
    "        visitId,\n",
    "        visitNumber,\n",
    "        visitStartTime,\n",
    "        hits.page.pagePath AS pagePath,\n",
    "        hits.hitNumber AS hitNumber,\n",
    "        hits.type AS htype,\n",
    "        hits.eventInfo.eventAction AS eventAction,\n",
    "        hits.eventInfo.eventCategory AS eventCategory,\n",
    "        (\n",
    "        SELECT\n",
    "          value\n",
    "        FROM\n",
    "          hits.customDimensions\n",
    "        WHERE\n",
    "          index=59) AS taxon\n",
    "      FROM\n",
    "        `govuk-bigquery-analytics.87773428.ga_sessions_*` AS sessions\n",
    "      CROSS JOIN\n",
    "        UNNEST(sessions.hits) AS hits\n",
    "      WHERE\n",
    "        _TABLE_SUFFIX BETWEEN '20190302'\n",
    "        AND '20190330' ) )\n",
    "  WHERE\n",
    "    PageSeq_Length > 1\n",
    "    AND REGEXP_CONTAINS(Sequence, r\"d7bdaee2-8ea5-460e-b00d-6e9382eb6b61|d6c2de5d-ef90-45d1-82d4-5f2438369eea|58adb819-5a65-4897-a790-5b7925c567e7|06e2928c-57b1-4b8d-a06e-3dde9ce63a6f\")\n",
    "  GROUP BY\n",
    "    sessionId,\n",
    "    Sequence,\n",
    "    PageSequence,\n",
    "    PageSeq_Length)\n",
    "GROUP BY\n",
    "  PageSequence,\n",
    "  PageSeq_Length\n",
    "\"\"\""
   ]
  },
  {
   "cell_type": "markdown",
   "metadata": {},
   "source": [
    "### Extract data from BigQuery"
   ]
  },
  {
   "cell_type": "code",
   "execution_count": 23,
   "metadata": {},
   "outputs": [
    {
     "name": "stdout",
     "output_type": "stream",
     "text": [
      "Requesting query... \n",
      "Query running...\n",
      "Job ID: 803cfef7-1043-4707-9ecc-60ab46d7630a\n",
      "  Elapsed 7.21 s. Waiting...\n",
      "  Elapsed 8.47 s. Waiting...\n",
      "  Elapsed 9.84 s. Waiting...\n",
      "  Elapsed 11.13 s. Waiting...\n",
      "  Elapsed 12.5 s. Waiting...\n",
      "  Elapsed 13.83 s. Waiting...\n",
      "  Elapsed 15.16 s. Waiting...\n",
      "  Elapsed 16.49 s. Waiting...\n",
      "  Elapsed 17.82 s. Waiting...\n",
      "  Elapsed 19.15 s. Waiting...\n",
      "  Elapsed 20.49 s. Waiting...\n",
      "  Elapsed 21.82 s. Waiting...\n",
      "  Elapsed 23.15 s. Waiting...\n",
      "  Elapsed 24.48 s. Waiting...\n",
      "  Elapsed 25.74 s. Waiting...\n",
      "  Elapsed 27.02 s. Waiting...\n",
      "  Elapsed 28.29 s. Waiting...\n",
      "  Elapsed 29.6 s. Waiting...\n",
      "  Elapsed 30.93 s. Waiting...\n",
      "  Elapsed 32.26 s. Waiting...\n",
      "  Elapsed 33.59 s. Waiting...\n",
      "  Elapsed 34.92 s. Waiting...\n",
      "  Elapsed 36.25 s. Waiting...\n",
      "  Elapsed 37.59 s. Waiting...\n",
      "  Elapsed 38.92 s. Waiting...\n",
      "  Elapsed 40.25 s. Waiting...\n",
      "  Elapsed 41.51 s. Waiting...\n",
      "  Elapsed 42.81 s. Waiting...\n",
      "  Elapsed 44.14 s. Waiting...\n",
      "  Elapsed 45.47 s. Waiting...\n",
      "  Elapsed 46.8 s. Waiting...\n",
      "  Elapsed 48.13 s. Waiting...\n",
      "  Elapsed 49.46 s. Waiting...\n",
      "  Elapsed 50.8 s. Waiting...\n",
      "  Elapsed 52.13 s. Waiting...\n",
      "  Elapsed 53.46 s. Waiting...\n",
      "  Elapsed 54.79 s. Waiting...\n",
      "  Elapsed 56.12 s. Waiting...\n",
      "  Elapsed 57.45 s. Waiting...\n",
      "  Elapsed 58.78 s. Waiting...\n",
      "  Elapsed 60.11 s. Waiting...\n",
      "  Elapsed 61.45 s. Waiting...\n",
      "  Elapsed 62.78 s. Waiting...\n",
      "  Elapsed 64.11 s. Waiting...\n",
      "  Elapsed 65.44 s. Waiting...\n",
      "  Elapsed 66.77 s. Waiting...\n",
      "  Elapsed 68.02 s. Waiting...\n",
      "  Elapsed 69.43 s. Waiting...\n",
      "  Elapsed 70.87 s. Waiting...\n",
      "  Elapsed 72.12 s. Waiting...\n",
      "  Elapsed 73.43 s. Waiting...\n",
      "  Elapsed 74.76 s. Waiting...\n",
      "  Elapsed 76.09 s. Waiting...\n",
      "  Elapsed 77.42 s. Waiting...\n",
      "  Elapsed 78.75 s. Waiting...\n",
      "  Elapsed 80.08 s. Waiting...\n",
      "  Elapsed 81.41 s. Waiting...\n",
      "  Elapsed 82.74 s. Waiting...\n",
      "  Elapsed 84.08 s. Waiting...\n",
      "  Elapsed 85.37 s. Waiting...\n",
      "  Elapsed 86.64 s. Waiting...\n",
      "  Elapsed 87.86 s. Waiting...\n",
      "Query done.\n",
      "Processed: 346.4 GB Billed: 346.4 GB\n",
      "Standard price: $1.69 USD\n",
      "\n",
      "Got 1273648 rows.\n",
      "\n",
      "Total time taken 272.81 s.\n",
      "Finished at 2019-03-31 22:00:29.\n"
     ]
    }
   ],
   "source": [
    "df_in = pd.read_gbq(query,\n",
    "                       project_id=PROJECT_ID,\n",
    "                       reauth=False,\n",
    "                       private_key=KEY_PATH,\n",
    "                       dialect=\"standard\")"
   ]
  },
  {
   "cell_type": "code",
   "execution_count": 24,
   "metadata": {},
   "outputs": [
    {
     "data": {
      "text/plain": [
       "(1273648, 3)"
      ]
     },
     "execution_count": 24,
     "metadata": {},
     "output_type": "execute_result"
    }
   ],
   "source": [
    "df_in.shape"
   ]
  },
  {
   "cell_type": "code",
   "execution_count": 25,
   "metadata": {},
   "outputs": [
    {
     "data": {
      "text/html": [
       "<div>\n",
       "<style scoped>\n",
       "    .dataframe tbody tr th:only-of-type {\n",
       "        vertical-align: middle;\n",
       "    }\n",
       "\n",
       "    .dataframe tbody tr th {\n",
       "        vertical-align: top;\n",
       "    }\n",
       "\n",
       "    .dataframe thead th {\n",
       "        text-align: right;\n",
       "    }\n",
       "</style>\n",
       "<table border=\"1\" class=\"dataframe\">\n",
       "  <thead>\n",
       "    <tr style=\"text-align: right;\">\n",
       "      <th></th>\n",
       "      <th>Occurrences</th>\n",
       "      <th>PageSeq_Length</th>\n",
       "      <th>PageSequence</th>\n",
       "    </tr>\n",
       "  </thead>\n",
       "  <tbody>\n",
       "    <tr>\n",
       "      <th>0</th>\n",
       "      <td>1</td>\n",
       "      <td>6</td>\n",
       "      <td>/uk-residence-eu-citizens&gt;&gt;/uk-residence-eu-ci...</td>\n",
       "    </tr>\n",
       "    <tr>\n",
       "      <th>1</th>\n",
       "      <td>1</td>\n",
       "      <td>6</td>\n",
       "      <td>/government/news/operation-brock-ready-for-act...</td>\n",
       "    </tr>\n",
       "    <tr>\n",
       "      <th>2</th>\n",
       "      <td>1</td>\n",
       "      <td>5</td>\n",
       "      <td>/government/organisations/department-for-inter...</td>\n",
       "    </tr>\n",
       "    <tr>\n",
       "      <th>3</th>\n",
       "      <td>1</td>\n",
       "      <td>5</td>\n",
       "      <td>/guidance/passport-rules-for-travel-to-europe-...</td>\n",
       "    </tr>\n",
       "    <tr>\n",
       "      <th>4</th>\n",
       "      <td>1</td>\n",
       "      <td>9</td>\n",
       "      <td>/government/publications/statutory-instruments...</td>\n",
       "    </tr>\n",
       "  </tbody>\n",
       "</table>\n",
       "</div>"
      ],
      "text/plain": [
       "   Occurrences  PageSeq_Length  \\\n",
       "0            1               6   \n",
       "1            1               6   \n",
       "2            1               5   \n",
       "3            1               5   \n",
       "4            1               9   \n",
       "\n",
       "                                        PageSequence  \n",
       "0  /uk-residence-eu-citizens>>/uk-residence-eu-ci...  \n",
       "1  /government/news/operation-brock-ready-for-act...  \n",
       "2  /government/organisations/department-for-inter...  \n",
       "3  /guidance/passport-rules-for-travel-to-europe-...  \n",
       "4  /government/publications/statutory-instruments...  "
      ]
     },
     "execution_count": 25,
     "metadata": {},
     "output_type": "execute_result"
    }
   ],
   "source": [
    "df_in.head()"
   ]
  },
  {
   "cell_type": "markdown",
   "metadata": {},
   "source": [
    "### Explore occurrences stats"
   ]
  },
  {
   "cell_type": "code",
   "execution_count": 26,
   "metadata": {},
   "outputs": [
    {
     "data": {
      "text/plain": [
       "count    1.273648e+06\n",
       "mean     2.013853e+00\n",
       "std      6.804226e+01\n",
       "min      1.000000e+00\n",
       "25%      1.000000e+00\n",
       "50%      1.000000e+00\n",
       "75%      1.000000e+00\n",
       "max      4.351100e+04\n",
       "Name: Occurrences, dtype: float64"
      ]
     },
     "execution_count": 26,
     "metadata": {},
     "output_type": "execute_result"
    }
   ],
   "source": [
    "df_in.Occurrences.describe()"
   ]
  },
  {
   "cell_type": "code",
   "execution_count": 27,
   "metadata": {},
   "outputs": [],
   "source": [
    "all_occ = df_in.Occurrences.sum()\n",
    "num_one_off_journeys = df_in[df_in.Occurrences==1].shape[0]\n",
    "one_off_occ = df_in[df_in.Occurrences==1].Occurrences.sum()"
   ]
  },
  {
   "cell_type": "code",
   "execution_count": 28,
   "metadata": {},
   "outputs": [
    {
     "data": {
      "text/plain": [
       "(2564940, 1178335, 1178335)"
      ]
     },
     "execution_count": 28,
     "metadata": {},
     "output_type": "execute_result"
    }
   ],
   "source": [
    "all_occ, num_one_off_journeys, one_off_occ"
   ]
  },
  {
   "cell_type": "code",
   "execution_count": 29,
   "metadata": {},
   "outputs": [
    {
     "data": {
      "text/html": [
       "<div>\n",
       "<style scoped>\n",
       "    .dataframe tbody tr th:only-of-type {\n",
       "        vertical-align: middle;\n",
       "    }\n",
       "\n",
       "    .dataframe tbody tr th {\n",
       "        vertical-align: top;\n",
       "    }\n",
       "\n",
       "    .dataframe thead th {\n",
       "        text-align: right;\n",
       "    }\n",
       "</style>\n",
       "<table border=\"1\" class=\"dataframe\">\n",
       "  <thead>\n",
       "    <tr style=\"text-align: right;\">\n",
       "      <th></th>\n",
       "      <th>Occurrences</th>\n",
       "      <th>PageSeq_Length</th>\n",
       "      <th>PageSequence</th>\n",
       "    </tr>\n",
       "  </thead>\n",
       "  <tbody>\n",
       "    <tr>\n",
       "      <th>1122590</th>\n",
       "      <td>43511</td>\n",
       "      <td>2</td>\n",
       "      <td>/guidance/international-driving-permits-for-uk...</td>\n",
       "    </tr>\n",
       "    <tr>\n",
       "      <th>1029376</th>\n",
       "      <td>29939</td>\n",
       "      <td>2</td>\n",
       "      <td>/guidance/international-driving-permits-for-uk...</td>\n",
       "    </tr>\n",
       "    <tr>\n",
       "      <th>1052003</th>\n",
       "      <td>23144</td>\n",
       "      <td>2</td>\n",
       "      <td>/prepare-eu-exit&gt;&gt;/visit-europe-brexit</td>\n",
       "    </tr>\n",
       "    <tr>\n",
       "      <th>3700</th>\n",
       "      <td>19203</td>\n",
       "      <td>2</td>\n",
       "      <td>/guidance/passport-rules-for-travel-to-europe-...</td>\n",
       "    </tr>\n",
       "    <tr>\n",
       "      <th>1222349</th>\n",
       "      <td>15202</td>\n",
       "      <td>2</td>\n",
       "      <td>/settled-status-eu-citizens-families&gt;&gt;/settled...</td>\n",
       "    </tr>\n",
       "  </tbody>\n",
       "</table>\n",
       "</div>"
      ],
      "text/plain": [
       "         Occurrences  PageSeq_Length  \\\n",
       "1122590        43511               2   \n",
       "1029376        29939               2   \n",
       "1052003        23144               2   \n",
       "3700           19203               2   \n",
       "1222349        15202               2   \n",
       "\n",
       "                                              PageSequence  \n",
       "1122590  /guidance/international-driving-permits-for-uk...  \n",
       "1029376  /guidance/international-driving-permits-for-uk...  \n",
       "1052003             /prepare-eu-exit>>/visit-europe-brexit  \n",
       "3700     /guidance/passport-rules-for-travel-to-europe-...  \n",
       "1222349  /settled-status-eu-citizens-families>>/settled...  "
      ]
     },
     "execution_count": 29,
     "metadata": {},
     "output_type": "execute_result"
    }
   ],
   "source": [
    "df_in.sort_values(\"Occurrences\", ascending=False).head()"
   ]
  },
  {
   "cell_type": "markdown",
   "metadata": {},
   "source": [
    "### Add `Page_List` column"
   ]
  },
  {
   "cell_type": "code",
   "execution_count": 30,
   "metadata": {},
   "outputs": [],
   "source": [
    "pagelist = [pageseq.split(\">>\") for pageseq in df_in['PageSequence'].values]\n",
    "df_in['Page_List'] = pagelist"
   ]
  },
  {
   "cell_type": "code",
   "execution_count": 31,
   "metadata": {},
   "outputs": [
    {
     "data": {
      "text/plain": [
       "0    [/uk-residence-eu-citizens, /uk-residence-eu-c...\n",
       "1    [/government/news/operation-brock-ready-for-ac...\n",
       "2    [/government/organisations/department-for-inte...\n",
       "3    [/guidance/passport-rules-for-travel-to-europe...\n",
       "4    [/government/publications/statutory-instrument...\n",
       "Name: Page_List, dtype: object"
      ]
     },
     "execution_count": 31,
     "metadata": {},
     "output_type": "execute_result"
    }
   ],
   "source": [
    "df_in['Page_List'].head()"
   ]
  },
  {
   "cell_type": "code",
   "execution_count": 32,
   "metadata": {},
   "outputs": [],
   "source": [
    "page_views = {}\n",
    "for tup in df_in.itertuples():\n",
    "    for p in tup.Page_List:\n",
    "        if p in page_views.keys():\n",
    "            page_views[p] += tup.Occurrences\n",
    "        else:\n",
    "            page_views[p] = tup.Occurrences"
   ]
  },
  {
   "cell_type": "code",
   "execution_count": 33,
   "metadata": {},
   "outputs": [
    {
     "data": {
      "text/plain": [
       "(417652, 16549470)"
      ]
     },
     "execution_count": 33,
     "metadata": {},
     "output_type": "execute_result"
    }
   ],
   "source": [
    "len(page_views), sum(page_views.values())"
   ]
  },
  {
   "cell_type": "code",
   "execution_count": 39,
   "metadata": {},
   "outputs": [
    {
     "data": {
      "text/plain": [
       "(1273648, 4)"
      ]
     },
     "execution_count": 39,
     "metadata": {},
     "output_type": "execute_result"
    }
   ],
   "source": [
    "df_in.shape"
   ]
  },
  {
   "cell_type": "markdown",
   "metadata": {},
   "source": [
    "### Save out "
   ]
  },
  {
   "cell_type": "code",
   "execution_count": 34,
   "metadata": {},
   "outputs": [],
   "source": [
    "date_range = \"mar_02_mar_30\"\n",
    "bq_dir = os.path.join(os.getenv(\"DATA_DIR\"), \"bq_journey_extract\")\n",
    "bq_file = os.path.join(bq_dir, \"pageseq_user_journey_brexit_\"+date_range+\".csv.gz\")\n",
    "bq_file_doo = os.path.join(bq_dir, \"pageseq_user_journey_brexit_\"+date_range+\"_doo.csv.gz\")\n",
    "page_views_file = os.path.join(bq_dir, \"pageviews_brexit_\"+date_range+\".csv.gz\")"
   ]
  },
  {
   "cell_type": "code",
   "execution_count": 35,
   "metadata": {},
   "outputs": [],
   "source": [
    "df_in.to_csv(bq_file, compression=\"gzip\", sep='\\t', index=False)"
   ]
  },
  {
   "cell_type": "code",
   "execution_count": 36,
   "metadata": {},
   "outputs": [],
   "source": [
    "df_in[df_in.Occurrences>1].to_csv(bq_file_doo, compression=\"gzip\", sep='\\t', index=False)"
   ]
  },
  {
   "cell_type": "code",
   "execution_count": 37,
   "metadata": {},
   "outputs": [],
   "source": [
    "import gzip\n",
    "with gzip.open(page_views_file, \"wb\") as writer:\n",
    "    writer.write(\"page_url\\tviews\\n\".encode())\n",
    "    for key,value in page_views.items():\n",
    "        writer.write(\"{}\\t{}\\n\".format(key,value).encode())"
   ]
  },
  {
   "cell_type": "code",
   "execution_count": null,
   "metadata": {},
   "outputs": [],
   "source": []
  }
 ],
 "metadata": {
  "kernelspec": {
   "display_name": "Python 3",
   "language": "python",
   "name": "python3"
  },
  "language_info": {
   "codemirror_mode": {
    "name": "ipython",
    "version": 3
   },
   "file_extension": ".py",
   "mimetype": "text/x-python",
   "name": "python",
   "nbconvert_exporter": "python",
   "pygments_lexer": "ipython3",
   "version": "3.6.0"
  }
 },
 "nbformat": 4,
 "nbformat_minor": 2
}
