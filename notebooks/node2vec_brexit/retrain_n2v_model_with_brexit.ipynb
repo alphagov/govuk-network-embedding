{
 "cells": [
  {
   "cell_type": "code",
   "execution_count": 2,
   "metadata": {},
   "outputs": [],
   "source": [
    "import networkx as nx\n",
    "import pandas as pd\n",
    "import json\n",
    "import os\n",
    "from networkx.readwrite import json_graph\n",
    "import numpy as np\n",
    "from datetime import datetime\n",
    "from node2vec import Node2Vec\n",
    "from node2vec.edges import HadamardEmbedder\n",
    "from ast import literal_eval\n",
    "from gensim.models import Word2Vec"
   ]
  },
  {
   "cell_type": "code",
   "execution_count": 9,
   "metadata": {},
   "outputs": [],
   "source": [
    "### Directories\n",
    "\n",
    "DATA_DIR = os.getenv(\"DATA_DIR\")\n",
    "train_network = os.path.join(DATA_DIR, \"train_network\")\n",
    "models = os.path.join(os.path.dirname(DATA_DIR), \"models\")\n",
    "content_api = os.path.join(DATA_DIR, \"content_api\")\n",
    "os.listdir(train_network)\n",
    "\n",
    "edgefile = os.path.join(train_network, \"merged_edges_struct_funct_w_brexit.csv.gz\")\n",
    "edges = pd.read_csv(edgefile, compression=\"gzip\", sep='\\t')"
   ]
  },
  {
   "cell_type": "code",
   "execution_count": 10,
   "metadata": {},
   "outputs": [
    {
     "data": {
      "text/html": [
       "<div>\n",
       "<style scoped>\n",
       "    .dataframe tbody tr th:only-of-type {\n",
       "        vertical-align: middle;\n",
       "    }\n",
       "\n",
       "    .dataframe tbody tr th {\n",
       "        vertical-align: top;\n",
       "    }\n",
       "\n",
       "    .dataframe thead th {\n",
       "        text-align: right;\n",
       "    }\n",
       "</style>\n",
       "<table border=\"1\" class=\"dataframe\">\n",
       "  <thead>\n",
       "    <tr style=\"text-align: right;\">\n",
       "      <th></th>\n",
       "      <th>dest_cid</th>\n",
       "      <th>dest_node</th>\n",
       "      <th>edge-id</th>\n",
       "      <th>source</th>\n",
       "      <th>src_cid</th>\n",
       "      <th>src_node</th>\n",
       "      <th>target</th>\n",
       "      <th>weight</th>\n",
       "    </tr>\n",
       "  </thead>\n",
       "  <tbody>\n",
       "    <tr>\n",
       "      <th>0</th>\n",
       "      <td>b171ada1-44a8-4221-a312-b2cbaab00249</td>\n",
       "      <td>/guidance/passport-rules-for-travel-to-europe-...</td>\n",
       "      <td>27924-27924</td>\n",
       "      <td>27924</td>\n",
       "      <td>b171ada1-44a8-4221-a312-b2cbaab00249</td>\n",
       "      <td>/guidance/passport-rules-for-travel-to-europe-...</td>\n",
       "      <td>27924</td>\n",
       "      <td>62934.0</td>\n",
       "    </tr>\n",
       "    <tr>\n",
       "      <th>1</th>\n",
       "      <td>92f7d5cd-2618-4306-ba2e-5874e2302061</td>\n",
       "      <td>/guidance/uk-nationals-travelling-to-eu-essent...</td>\n",
       "      <td>18961-18961</td>\n",
       "      <td>18961</td>\n",
       "      <td>92f7d5cd-2618-4306-ba2e-5874e2302061</td>\n",
       "      <td>/guidance/uk-nationals-travelling-to-eu-essent...</td>\n",
       "      <td>18961</td>\n",
       "      <td>29876.0</td>\n",
       "    </tr>\n",
       "    <tr>\n",
       "      <th>2</th>\n",
       "      <td>9f1621c2-1d3c-4a91-ad71-5366d3270dae</td>\n",
       "      <td>/guidance/prepare-to-drive-in-the-eu-after-brexit</td>\n",
       "      <td>42091-42091</td>\n",
       "      <td>42091</td>\n",
       "      <td>9f1621c2-1d3c-4a91-ad71-5366d3270dae</td>\n",
       "      <td>/guidance/prepare-to-drive-in-the-eu-after-brexit</td>\n",
       "      <td>42091</td>\n",
       "      <td>31930.0</td>\n",
       "    </tr>\n",
       "    <tr>\n",
       "      <th>3</th>\n",
       "      <td>91504a10-f697-42a3-a779-f238b4955ea9</td>\n",
       "      <td>/settled-status-eu-citizens-families</td>\n",
       "      <td>55850-55850</td>\n",
       "      <td>55850</td>\n",
       "      <td>91504a10-f697-42a3-a779-f238b4955ea9</td>\n",
       "      <td>/settled-status-eu-citizens-families</td>\n",
       "      <td>55850</td>\n",
       "      <td>34379.0</td>\n",
       "    </tr>\n",
       "    <tr>\n",
       "      <th>4</th>\n",
       "      <td>e675301d-b593-4736-b216-bb9369edf04d</td>\n",
       "      <td>/eu-eea</td>\n",
       "      <td>35999-35999</td>\n",
       "      <td>35999</td>\n",
       "      <td>e675301d-b593-4736-b216-bb9369edf04d</td>\n",
       "      <td>/eu-eea</td>\n",
       "      <td>35999</td>\n",
       "      <td>11399.0</td>\n",
       "    </tr>\n",
       "  </tbody>\n",
       "</table>\n",
       "</div>"
      ],
      "text/plain": [
       "                               dest_cid  \\\n",
       "0  b171ada1-44a8-4221-a312-b2cbaab00249   \n",
       "1  92f7d5cd-2618-4306-ba2e-5874e2302061   \n",
       "2  9f1621c2-1d3c-4a91-ad71-5366d3270dae   \n",
       "3  91504a10-f697-42a3-a779-f238b4955ea9   \n",
       "4  e675301d-b593-4736-b216-bb9369edf04d   \n",
       "\n",
       "                                           dest_node      edge-id  source  \\\n",
       "0  /guidance/passport-rules-for-travel-to-europe-...  27924-27924   27924   \n",
       "1  /guidance/uk-nationals-travelling-to-eu-essent...  18961-18961   18961   \n",
       "2  /guidance/prepare-to-drive-in-the-eu-after-brexit  42091-42091   42091   \n",
       "3               /settled-status-eu-citizens-families  55850-55850   55850   \n",
       "4                                            /eu-eea  35999-35999   35999   \n",
       "\n",
       "                                src_cid  \\\n",
       "0  b171ada1-44a8-4221-a312-b2cbaab00249   \n",
       "1  92f7d5cd-2618-4306-ba2e-5874e2302061   \n",
       "2  9f1621c2-1d3c-4a91-ad71-5366d3270dae   \n",
       "3  91504a10-f697-42a3-a779-f238b4955ea9   \n",
       "4  e675301d-b593-4736-b216-bb9369edf04d   \n",
       "\n",
       "                                            src_node  target   weight  \n",
       "0  /guidance/passport-rules-for-travel-to-europe-...   27924  62934.0  \n",
       "1  /guidance/uk-nationals-travelling-to-eu-essent...   18961  29876.0  \n",
       "2  /guidance/prepare-to-drive-in-the-eu-after-brexit   42091  31930.0  \n",
       "3               /settled-status-eu-citizens-families   55850  34379.0  \n",
       "4                                            /eu-eea   35999  11399.0  "
      ]
     },
     "execution_count": 10,
     "metadata": {},
     "output_type": "execute_result"
    }
   ],
   "source": [
    "edges.head()"
   ]
  },
  {
   "cell_type": "code",
   "execution_count": 11,
   "metadata": {},
   "outputs": [],
   "source": [
    "### Initialize `base_path`,  `content_id` and `feature` dictionaries"
   ]
  },
  {
   "cell_type": "code",
   "execution_count": 12,
   "metadata": {},
   "outputs": [],
   "source": [
    "def build_dict(k1,v1,k2,v2):\n",
    "    agg_dict = dict(zip(k1,v1))\n",
    "    for key,value in zip(k2,v2):\n",
    "        if key not in agg_dict.keys():\n",
    "            agg_dict[key] = value\n",
    "    return agg_dict   "
   ]
  },
  {
   "cell_type": "code",
   "execution_count": 13,
   "metadata": {},
   "outputs": [],
   "source": [
    "nid_cid = build_dict(edges.source, edges.src_cid, edges.target, edges.dest_cid)\n",
    "nid_url = build_dict(edges.source, edges.src_node, edges.target, edges.dest_node)\n",
    "url_nid = build_dict(edges.src_node, edges.source, edges.dest_node, edges.target)"
   ]
  },
  {
   "cell_type": "code",
   "execution_count": 14,
   "metadata": {},
   "outputs": [],
   "source": [
    "graph = nx.DiGraph()\n",
    "for src,dest in zip(edges.source, edges.target):\n",
    "    graph.add_edge(src, dest)\n",
    "\n",
    "attrs = {nid:{\"cid\":nid_cid[nid], \"url\":nid_url[nid]} for nid in graph.nodes()}\n",
    "nx.set_node_attributes(graph, attrs)"
   ]
  },
  {
   "cell_type": "code",
   "execution_count": 15,
   "metadata": {},
   "outputs": [
    {
     "data": {
      "text/plain": [
       "{'cid': '1e333395-5dd5-4452-96a3-fbe939928761', 'url': '/visa-fees'}"
      ]
     },
     "execution_count": 15,
     "metadata": {},
     "output_type": "execute_result"
    }
   ],
   "source": [
    "graph.nodes[58314]"
   ]
  },
  {
   "cell_type": "code",
   "execution_count": 16,
   "metadata": {},
   "outputs": [
    {
     "data": {
      "text/plain": [
       "dict_keys(['cid', 'url'])"
      ]
     },
     "execution_count": 16,
     "metadata": {},
     "output_type": "execute_result"
    }
   ],
   "source": [
    "graph.nodes[58314].keys()"
   ]
  },
  {
   "cell_type": "code",
   "execution_count": 17,
   "metadata": {},
   "outputs": [],
   "source": [
    "## Node2Vec"
   ]
  },
  {
   "cell_type": "code",
   "execution_count": null,
   "metadata": {},
   "outputs": [
    {
     "name": "stderr",
     "output_type": "stream",
     "text": [
      "\r",
      "Computing transition probabilities:   0%|          | 0/144496 [00:00<?, ?it/s]"
     ]
    },
    {
     "name": "stdout",
     "output_type": "stream",
     "text": [
      "23:32:29 Computing probs and walks...\n"
     ]
    },
    {
     "name": "stderr",
     "output_type": "stream",
     "text": [
      "Computing transition probabilities: 100%|██████████| 144496/144496 [10:02<00:00, 239.63it/s]\n",
      "Generating walks (CPU: 1):  16%|█▌        | 31/200 [33:30<3:11:45, 68.08s/it]"
     ]
    }
   ],
   "source": [
    "# Precompute probabilities and generate walks\n",
    "print(datetime.now().strftime(\"%H:%M:%S\"), \"Computing probs and walks...\")\n",
    "node2vec = Node2Vec(graph, dimensions=64, walk_length=30, num_walks=200, workers=1)  \n",
    "print(datetime.now().strftime(\"%H:%M:%S\"), \"End\")"
   ]
  },
  {
   "cell_type": "code",
   "execution_count": null,
   "metadata": {},
   "outputs": [],
   "source": [
    "### Compute node embeddings"
   ]
  },
  {
   "cell_type": "code",
   "execution_count": null,
   "metadata": {},
   "outputs": [],
   "source": [
    "print(datetime.now().strftime(\"%H:%M:%S\"), \"Fitting model...\")\n",
    "model = node2vec.fit(window=10, min_count=1, batch_words=4)  \n",
    "print(datetime.now().strftime(\"%H:%M:%S\"), \"Finished fitting model...\")"
   ]
  },
  {
   "cell_type": "code",
   "execution_count": null,
   "metadata": {},
   "outputs": [],
   "source": [
    "# Look for most similar nodes\n",
    "model.wv.most_similar('2', topn=10)  # Output node names are always strings"
   ]
  },
  {
   "cell_type": "code",
   "execution_count": null,
   "metadata": {},
   "outputs": [],
   "source": [
    "str_node = \"/sold-bought-vehicle\"\n",
    "# \"/sold-bought-vehicle\"/government/publications/below-the-radar-low-level-disruption-in-the-countrys-classrooms\n",
    "target = str(edges[edges.src_node == str_node].source.values[0])\n",
    "target"
   ]
  },
  {
   "cell_type": "code",
   "execution_count": null,
   "metadata": {},
   "outputs": [],
   "source": [
    "count = 0\n",
    "cids = []\n",
    "for nid, prob in model.wv.most_similar(target, topn=50):\n",
    "    if nid_cid[int(target)] != nid_cid[int(nid)] and \"/browse\" not in nid_url[int(nid)]\\\n",
    "    and nid_cid[int(nid)] not in cids:\n",
    "        print(nid_url[int(nid)])\n",
    "        count+=1\n",
    "        cids.append(nid_cid[int(nid)])\n",
    "    if count == 10:\n",
    "        break"
   ]
  },
  {
   "cell_type": "code",
   "execution_count": null,
   "metadata": {},
   "outputs": [],
   "source": [
    "## \"Predict\" for relevant brexit pages\n",
    "\n",
    "top = pd.read_csv(os.path.join(DATA_DIR, \"top-pages-govuk-feb19.tsv\"), sep='\\t', usecols=['Page', 'Page Views'])\n",
    "\n",
    "top.head()"
   ]
  },
  {
   "cell_type": "code",
   "execution_count": null,
   "metadata": {},
   "outputs": [],
   "source": [
    "# ### Set up content item titles for human assessment\n",
    "# labelled_file = os.path.join(DATA_DIR, \"content_api\", \"labelled.csv.gz\")\n",
    "# labelled = pd.read_csv(labelled_file, compression=\"gzip\")\n",
    "# base_cid = dict(zip(labelled.base_path, labelled.content_id))\n",
    "# cid_title = dict(zip(labelled.content_id, labelled.title))\n",
    "# top[\"content_id\"] = top[\"Page\"].map(base_cid)\n",
    "# top.dropna(subset=[\"content_id\"], inplace=True)"
   ]
  },
  {
   "cell_type": "code",
   "execution_count": null,
   "metadata": {},
   "outputs": [],
   "source": [
    "def generate_vectors(vector_list):\n",
    "    for nid, prob in vector_list:\n",
    "        yield nid, prob"
   ]
  },
  {
   "cell_type": "code",
   "execution_count": null,
   "metadata": {},
   "outputs": [],
   "source": [
    "vecs = generate_vectors(model.wv.most_similar(\"0\", topn=1000))"
   ]
  },
  {
   "cell_type": "code",
   "execution_count": null,
   "metadata": {},
   "outputs": [],
   "source": [
    "nid, prob = next(vecs)\n",
    "nid, prob"
   ]
  },
  {
   "cell_type": "code",
   "execution_count": null,
   "metadata": {},
   "outputs": [],
   "source": [
    "## Compute related links for a set of pages"
   ]
  },
  {
   "cell_type": "code",
   "execution_count": null,
   "metadata": {},
   "outputs": [],
   "source": [
    "cids_edgeset = set(list(edges.src_cid)+list(edges.dest_cid))\n",
    "\n",
    "nid_cid = build_dict(edges.source, edges.src_cid, edges.target, edges.dest_cid)\n",
    "nid_url = build_dict(edges.source, edges.src_node, edges.target, edges.dest_node)\n",
    "url_nid = build_dict(edges.src_node, edges.source, edges.dest_node, edges.target)"
   ]
  },
  {
   "cell_type": "code",
   "execution_count": null,
   "metadata": {},
   "outputs": [],
   "source": [
    "def compute_top_n(df_path, n):\n",
    "    pages_links = []\n",
    "    missing = []\n",
    "    for page in df_path.values:\n",
    "        if page in url_nid.keys():\n",
    "            target = str(url_nid[page])\n",
    "            count = 0\n",
    "            cids = []\n",
    "            vecs = generate_vectors(model.wv.most_similar(target, topn=1000))\n",
    "            while count <= n:\n",
    "                nid, prob = next(vecs)\n",
    "                if nid_cid[int(target)] != nid_cid[int(nid)]\\\n",
    "                and all(t not in nid_url[int(nid)] for t in [\"/topic\",\"/browse\"])\\\n",
    "                and nid_cid[int(nid)] not in cids\\\n",
    "                and nid_cid[int(nid)] not in cid_link_cids[nid_cid[int(target)]]:\n",
    "                    \n",
    "                    cids.append(nid_cid[int(nid)])\n",
    "                    page_link = {\"nid\":int(target),\n",
    "                                 \"cid\":nid_cid[int(target)],\n",
    "                                 \"base_path\": page, \n",
    "                                 \"link\":nid_url[int(nid)], \n",
    "                                 \"link_cid\":nid_cid[int(nid)],\n",
    "                                 \"probability\":round(prob,3)}\n",
    "                    pages_links.append(page_link)\n",
    "                    count+=1\n",
    "        else:\n",
    "            missing.append(page)\n",
    "#             print(\"Page {} is missing from training set\".format(page))\n",
    "            \n",
    "    return pd.DataFrame(pages_links), missing"
   ]
  },
  {
   "cell_type": "code",
   "execution_count": null,
   "metadata": {},
   "outputs": [],
   "source": [
    "top_50_links, misses = compute_top_n(content.base_path, 10)\n",
    "\n",
    "top_50_links.shape, len(misses), len(set(content.base_path.values))-len(misses)\n",
    "\n",
    "top_50_links[top_50_links.base_path == \"/universal-credit\"]\n",
    "\n",
    "top_50_links['title'] = top_50_links['cid'].map(cid_title)\n",
    "top_50_links['link_title'] = top_50_links['link_cid'].map(cid_title)\n",
    "\n",
    "\n",
    "top_50_links.to_csv(os.path.join(DATA_DIR, \"results\",\\\n",
    "                                 \"n2v_struct_funct_results_bre.csv\"), index=False)"
   ]
  },
  {
   "cell_type": "code",
   "execution_count": null,
   "metadata": {},
   "outputs": [],
   "source": [
    "## Save out resulting node/edge embeddings and model."
   ]
  },
  {
   "cell_type": "code",
   "execution_count": null,
   "metadata": {},
   "outputs": [],
   "source": [
    "EMBEDDING_FILENAME = os.path.join(models, \"n2v_node_embeddings\")\n",
    "EMBEDDING_MODEL_FILENAME = os.path.join(models, \"n2v.model\")\n",
    "EDGES_EMBEDDING_FILENAME = os.path.join(models, \"n2v_edge_embeddings\")"
   ]
  },
  {
   "cell_type": "code",
   "execution_count": null,
   "metadata": {},
   "outputs": [],
   "source": [
    "model =  Word2Vec.load(EMBEDDING_MODEL_FILENAME)"
   ]
  },
  {
   "cell_type": "code",
   "execution_count": null,
   "metadata": {},
   "outputs": [],
   "source": [
    "# Save embeddings for later use\n",
    "model.wv.save_word2vec_format(EMBEDDING_FILENAME)\n",
    "# Save model for later use\n",
    "model.save(EMBEDDING_MODEL_FILENAME)\n",
    "\n",
    "## Check some results, load saved trained model from above"
   ]
  }
 ],
 "metadata": {
  "kernelspec": {
   "display_name": "Python 3",
   "language": "python",
   "name": "python3"
  },
  "language_info": {
   "codemirror_mode": {
    "name": "ipython",
    "version": 3
   },
   "file_extension": ".py",
   "mimetype": "text/x-python",
   "name": "python",
   "nbconvert_exporter": "python",
   "pygments_lexer": "ipython3",
   "version": "3.6.0"
  }
 },
 "nbformat": 4,
 "nbformat_minor": 2
}
