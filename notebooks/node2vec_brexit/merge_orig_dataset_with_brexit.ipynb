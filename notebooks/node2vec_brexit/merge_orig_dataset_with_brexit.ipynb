{
 "cells": [
  {
   "cell_type": "code",
   "execution_count": 1,
   "metadata": {},
   "outputs": [],
   "source": [
    "import os\n",
    "import pandas as pd"
   ]
  },
  {
   "cell_type": "code",
   "execution_count": 2,
   "metadata": {},
   "outputs": [],
   "source": [
    "## Merge two dates"
   ]
  },
  {
   "cell_type": "code",
   "execution_count": 6,
   "metadata": {},
   "outputs": [],
   "source": [
    "DATA_DIR = os.getenv(\"DATA_DIR\")\n",
    "bq = os.path.join(DATA_DIR, \"bq_journey_extract\")\n",
    "files = [os.path.join(bq, file) for file in os.listdir(bq) if \"pageseq_user_journey_brexit\" in file\n",
    "and \"doo\" not in file]"
   ]
  },
  {
   "cell_type": "code",
   "execution_count": 10,
   "metadata": {},
   "outputs": [
    {
     "data": {
      "text/html": [
       "<div>\n",
       "<style scoped>\n",
       "    .dataframe tbody tr th:only-of-type {\n",
       "        vertical-align: middle;\n",
       "    }\n",
       "\n",
       "    .dataframe tbody tr th {\n",
       "        vertical-align: top;\n",
       "    }\n",
       "\n",
       "    .dataframe thead th {\n",
       "        text-align: right;\n",
       "    }\n",
       "</style>\n",
       "<table border=\"1\" class=\"dataframe\">\n",
       "  <thead>\n",
       "    <tr style=\"text-align: right;\">\n",
       "      <th></th>\n",
       "      <th>Occurrences</th>\n",
       "      <th>PageSeq_Length</th>\n",
       "      <th>PageSequence</th>\n",
       "    </tr>\n",
       "  </thead>\n",
       "  <tbody>\n",
       "    <tr>\n",
       "      <th>0</th>\n",
       "      <td>6813</td>\n",
       "      <td>3</td>\n",
       "      <td>/prepare-eu-exit&gt;&gt;/prepare-eu-exit/going-and-b...</td>\n",
       "    </tr>\n",
       "    <tr>\n",
       "      <th>1</th>\n",
       "      <td>6721</td>\n",
       "      <td>2</td>\n",
       "      <td>/guidance/prepare-to-drive-in-the-eu-after-bre...</td>\n",
       "    </tr>\n",
       "    <tr>\n",
       "      <th>2</th>\n",
       "      <td>6507</td>\n",
       "      <td>2</td>\n",
       "      <td>/guidance/passport-rules-for-travel-to-europe-...</td>\n",
       "    </tr>\n",
       "    <tr>\n",
       "      <th>3</th>\n",
       "      <td>5680</td>\n",
       "      <td>2</td>\n",
       "      <td>/guidance/uk-nationals-travelling-to-eu-essent...</td>\n",
       "    </tr>\n",
       "    <tr>\n",
       "      <th>4</th>\n",
       "      <td>4543</td>\n",
       "      <td>2</td>\n",
       "      <td>/settled-status-eu-citizens-families/applying-...</td>\n",
       "    </tr>\n",
       "  </tbody>\n",
       "</table>\n",
       "</div>"
      ],
      "text/plain": [
       "   Occurrences  PageSeq_Length  \\\n",
       "0         6813               3   \n",
       "1         6721               2   \n",
       "2         6507               2   \n",
       "3         5680               2   \n",
       "4         4543               2   \n",
       "\n",
       "                                        PageSequence  \n",
       "0  /prepare-eu-exit>>/prepare-eu-exit/going-and-b...  \n",
       "1  /guidance/prepare-to-drive-in-the-eu-after-bre...  \n",
       "2  /guidance/passport-rules-for-travel-to-europe-...  \n",
       "3  /guidance/uk-nationals-travelling-to-eu-essent...  \n",
       "4  /settled-status-eu-citizens-families/applying-...  "
      ]
     },
     "execution_count": 10,
     "metadata": {},
     "output_type": "execute_result"
    }
   ],
   "source": [
    "df = pd.concat([pd.read_csv(f, \n",
    "                 compression=\"gzip\", \n",
    "                 sep=\"\\t\", \n",
    "                 usecols=['Occurrences', 'PageSeq_Length', 'PageSequence']) for f in files])\n",
    "df.head()"
   ]
  },
  {
   "cell_type": "code",
   "execution_count": 12,
   "metadata": {},
   "outputs": [
    {
     "data": {
      "text/plain": [
       "(1756235, 3)"
      ]
     },
     "execution_count": 12,
     "metadata": {},
     "output_type": "execute_result"
    }
   ],
   "source": [
    "df.shape"
   ]
  },
  {
   "cell_type": "code",
   "execution_count": 14,
   "metadata": {},
   "outputs": [],
   "source": [
    "# ids = df[\"PageSequence\"]\n",
    "# df[ids.isin(ids[ids.duplicated()])].sort_values(\"PageSequence\")"
   ]
  },
  {
   "cell_type": "code",
   "execution_count": 16,
   "metadata": {},
   "outputs": [],
   "source": [
    "df['Occurrences'] = df.groupby(\"PageSequence\")['Occurrences'].transform(sum)"
   ]
  },
  {
   "cell_type": "code",
   "execution_count": 18,
   "metadata": {},
   "outputs": [
    {
     "data": {
      "text/plain": [
       "(1699292, 3)"
      ]
     },
     "execution_count": 18,
     "metadata": {},
     "output_type": "execute_result"
    }
   ],
   "source": [
    "df.drop_duplicates(\"PageSequence\", inplace=True)\n",
    "df.shape"
   ]
  },
  {
   "cell_type": "code",
   "execution_count": 19,
   "metadata": {},
   "outputs": [
    {
     "data": {
      "text/plain": [
       "(1575222, 3)"
      ]
     },
     "execution_count": 19,
     "metadata": {},
     "output_type": "execute_result"
    }
   ],
   "source": [
    "df[df['Occurrences']==1].shape"
   ]
  },
  {
   "cell_type": "code",
   "execution_count": 20,
   "metadata": {},
   "outputs": [],
   "source": [
    "pagelist = [pageseq.split(\">>\") for pageseq in df['PageSequence'].values]\n",
    "df['Page_List'] = pagelist"
   ]
  },
  {
   "cell_type": "code",
   "execution_count": 22,
   "metadata": {},
   "outputs": [],
   "source": [
    "df.drop(\"PageSeq_Length\", axis=1, inplace=True)"
   ]
  },
  {
   "cell_type": "code",
   "execution_count": 23,
   "metadata": {},
   "outputs": [],
   "source": [
    "## Save"
   ]
  },
  {
   "cell_type": "code",
   "execution_count": 25,
   "metadata": {},
   "outputs": [],
   "source": [
    "bq_file = os.path.join(bq, \"pageseq_user_journey_brexit_feb19_mar_30.csv.gz\")\n",
    "df.to_csv(bq_file, compression=\"gzip\", sep='\\t', index=False)"
   ]
  },
  {
   "cell_type": "code",
   "execution_count": 30,
   "metadata": {},
   "outputs": [],
   "source": [
    "# Merge edgelists"
   ]
  },
  {
   "cell_type": "code",
   "execution_count": 96,
   "metadata": {},
   "outputs": [],
   "source": [
    "net = os.path.join(DATA_DIR, \"processed_network\")\n",
    "brexit_edges_file = os.path.join(net, \"feb19_mar30_nos_edges.csv.gz\")"
   ]
  },
  {
   "cell_type": "code",
   "execution_count": 97,
   "metadata": {},
   "outputs": [],
   "source": [
    "dfb = pd.read_csv(brexit_edges_file, sep=\"\\t\", compression=\"gzip\")"
   ]
  },
  {
   "cell_type": "code",
   "execution_count": 98,
   "metadata": {},
   "outputs": [],
   "source": [
    "dfb = dfb[~(dfb.Source_node.str.contains(\" \")) & ~(dfb.Destination_node.str.contains(\" \"))]"
   ]
  },
  {
   "cell_type": "code",
   "execution_count": 99,
   "metadata": {},
   "outputs": [
    {
     "data": {
      "text/html": [
       "<div>\n",
       "<style scoped>\n",
       "    .dataframe tbody tr th:only-of-type {\n",
       "        vertical-align: middle;\n",
       "    }\n",
       "\n",
       "    .dataframe tbody tr th {\n",
       "        vertical-align: top;\n",
       "    }\n",
       "\n",
       "    .dataframe thead th {\n",
       "        text-align: right;\n",
       "    }\n",
       "</style>\n",
       "<table border=\"1\" class=\"dataframe\">\n",
       "  <thead>\n",
       "    <tr style=\"text-align: right;\">\n",
       "      <th></th>\n",
       "      <th>Source_node</th>\n",
       "      <th>Source_id</th>\n",
       "      <th>Destination_node</th>\n",
       "      <th>Destination_id</th>\n",
       "      <th>Weight</th>\n",
       "    </tr>\n",
       "  </thead>\n",
       "  <tbody>\n",
       "    <tr>\n",
       "      <th>0</th>\n",
       "      <td>/prepare-eu-exit</td>\n",
       "      <td>0</td>\n",
       "      <td>/prepare-eu-exit/going-and-being-abroad</td>\n",
       "      <td>1</td>\n",
       "      <td>102737</td>\n",
       "    </tr>\n",
       "    <tr>\n",
       "      <th>1</th>\n",
       "      <td>/prepare-eu-exit/going-and-being-abroad</td>\n",
       "      <td>1</td>\n",
       "      <td>/guidance/uk-nationals-travelling-to-eu-essent...</td>\n",
       "      <td>2</td>\n",
       "      <td>39123</td>\n",
       "    </tr>\n",
       "    <tr>\n",
       "      <th>2</th>\n",
       "      <td>/guidance/prepare-to-drive-in-the-eu-after-brexit</td>\n",
       "      <td>3</td>\n",
       "      <td>/guidance/international-driving-permits-for-uk...</td>\n",
       "      <td>4</td>\n",
       "      <td>66923</td>\n",
       "    </tr>\n",
       "    <tr>\n",
       "      <th>3</th>\n",
       "      <td>/guidance/passport-rules-for-travel-to-europe-...</td>\n",
       "      <td>5</td>\n",
       "      <td>/guidance/passport-rules-for-travel-to-europe-...</td>\n",
       "      <td>5</td>\n",
       "      <td>62934</td>\n",
       "    </tr>\n",
       "    <tr>\n",
       "      <th>4</th>\n",
       "      <td>/guidance/uk-nationals-travelling-to-eu-essent...</td>\n",
       "      <td>2</td>\n",
       "      <td>/guidance/uk-nationals-travelling-to-eu-essent...</td>\n",
       "      <td>2</td>\n",
       "      <td>29876</td>\n",
       "    </tr>\n",
       "  </tbody>\n",
       "</table>\n",
       "</div>"
      ],
      "text/plain": [
       "                                         Source_node  Source_id  \\\n",
       "0                                   /prepare-eu-exit          0   \n",
       "1            /prepare-eu-exit/going-and-being-abroad          1   \n",
       "2  /guidance/prepare-to-drive-in-the-eu-after-brexit          3   \n",
       "3  /guidance/passport-rules-for-travel-to-europe-...          5   \n",
       "4  /guidance/uk-nationals-travelling-to-eu-essent...          2   \n",
       "\n",
       "                                    Destination_node  Destination_id  Weight  \n",
       "0            /prepare-eu-exit/going-and-being-abroad               1  102737  \n",
       "1  /guidance/uk-nationals-travelling-to-eu-essent...               2   39123  \n",
       "2  /guidance/international-driving-permits-for-uk...               4   66923  \n",
       "3  /guidance/passport-rules-for-travel-to-europe-...               5   62934  \n",
       "4  /guidance/uk-nationals-travelling-to-eu-essent...               2   29876  "
      ]
     },
     "execution_count": 99,
     "metadata": {},
     "output_type": "execute_result"
    }
   ],
   "source": [
    "dfb.head()"
   ]
  },
  {
   "cell_type": "code",
   "execution_count": 100,
   "metadata": {},
   "outputs": [
    {
     "data": {
      "text/plain": [
       "(1115449, 5)"
      ]
     },
     "execution_count": 100,
     "metadata": {},
     "output_type": "execute_result"
    }
   ],
   "source": [
    "dfb.shape"
   ]
  },
  {
   "cell_type": "code",
   "execution_count": 101,
   "metadata": {},
   "outputs": [
    {
     "data": {
      "text/plain": [
       "(334812, 5)"
      ]
     },
     "execution_count": 101,
     "metadata": {},
     "output_type": "execute_result"
    }
   ],
   "source": [
    "dfb[dfb.Weight!=1].shape"
   ]
  },
  {
   "cell_type": "code",
   "execution_count": 102,
   "metadata": {},
   "outputs": [],
   "source": [
    "dfb = dfb[dfb.Weight!=1]"
   ]
  },
  {
   "cell_type": "code",
   "execution_count": 103,
   "metadata": {},
   "outputs": [],
   "source": [
    "### Directories\n",
    "train_network = os.path.join(DATA_DIR, \"train_network\")\n",
    "edgefile = os.path.join(train_network, \"merged_edges_struct_funct.csv.gz\")\n",
    "edges = pd.read_csv(edgefile, compression=\"gzip\")"
   ]
  },
  {
   "cell_type": "code",
   "execution_count": 104,
   "metadata": {},
   "outputs": [
    {
     "data": {
      "text/html": [
       "<div>\n",
       "<style scoped>\n",
       "    .dataframe tbody tr th:only-of-type {\n",
       "        vertical-align: middle;\n",
       "    }\n",
       "\n",
       "    .dataframe tbody tr th {\n",
       "        vertical-align: top;\n",
       "    }\n",
       "\n",
       "    .dataframe thead th {\n",
       "        text-align: right;\n",
       "    }\n",
       "</style>\n",
       "<table border=\"1\" class=\"dataframe\">\n",
       "  <thead>\n",
       "    <tr style=\"text-align: right;\">\n",
       "      <th></th>\n",
       "      <th>dest_cid</th>\n",
       "      <th>dest_node</th>\n",
       "      <th>source</th>\n",
       "      <th>src_cid</th>\n",
       "      <th>src_node</th>\n",
       "      <th>target</th>\n",
       "      <th>weight</th>\n",
       "      <th>edge-id</th>\n",
       "    </tr>\n",
       "  </thead>\n",
       "  <tbody>\n",
       "    <tr>\n",
       "      <th>0</th>\n",
       "      <td>1e333395-5dd5-4452-96a3-fbe939928761</td>\n",
       "      <td>/visa-fees</td>\n",
       "      <td>33265</td>\n",
       "      <td>5ef7560d-7631-11e4-a3cb-005056011aef</td>\n",
       "      <td>/government/publications/guidance-for-dependan...</td>\n",
       "      <td>58314</td>\n",
       "      <td>66.0</td>\n",
       "      <td>33265-58314</td>\n",
       "    </tr>\n",
       "    <tr>\n",
       "      <th>1</th>\n",
       "      <td>aa055bd6-fde1-4471-8ac2-ac86241b4898</td>\n",
       "      <td>/find-a-visa-application-centre</td>\n",
       "      <td>58314</td>\n",
       "      <td>1e333395-5dd5-4452-96a3-fbe939928761</td>\n",
       "      <td>/visa-fees</td>\n",
       "      <td>12343</td>\n",
       "      <td>1164.0</td>\n",
       "      <td>58314-12343</td>\n",
       "    </tr>\n",
       "    <tr>\n",
       "      <th>2</th>\n",
       "      <td>305acc88-488e-44ec-8e5a-1a5de7819ba9</td>\n",
       "      <td>/uk-family-visa</td>\n",
       "      <td>23720</td>\n",
       "      <td>d612c61e-22f4-4922-8bb2-b04b9202126e</td>\n",
       "      <td>/entering-staying-uk/family-visas</td>\n",
       "      <td>25053</td>\n",
       "      <td>377.0</td>\n",
       "      <td>23720-25053</td>\n",
       "    </tr>\n",
       "    <tr>\n",
       "      <th>3</th>\n",
       "      <td>305acc88-488e-44ec-8e5a-1a5de7819ba9</td>\n",
       "      <td>/uk-family-visa/partner-spouse</td>\n",
       "      <td>25053</td>\n",
       "      <td>305acc88-488e-44ec-8e5a-1a5de7819ba9</td>\n",
       "      <td>/uk-family-visa</td>\n",
       "      <td>14044</td>\n",
       "      <td>26227.0</td>\n",
       "      <td>25053-14044</td>\n",
       "    </tr>\n",
       "    <tr>\n",
       "      <th>4</th>\n",
       "      <td>5ef421be-7631-11e4-a3cb-005056011aef</td>\n",
       "      <td>/government/publications/application-for-uk-vi...</td>\n",
       "      <td>14044</td>\n",
       "      <td>305acc88-488e-44ec-8e5a-1a5de7819ba9</td>\n",
       "      <td>/uk-family-visa/partner-spouse</td>\n",
       "      <td>33797</td>\n",
       "      <td>2733.0</td>\n",
       "      <td>14044-33797</td>\n",
       "    </tr>\n",
       "  </tbody>\n",
       "</table>\n",
       "</div>"
      ],
      "text/plain": [
       "                               dest_cid  \\\n",
       "0  1e333395-5dd5-4452-96a3-fbe939928761   \n",
       "1  aa055bd6-fde1-4471-8ac2-ac86241b4898   \n",
       "2  305acc88-488e-44ec-8e5a-1a5de7819ba9   \n",
       "3  305acc88-488e-44ec-8e5a-1a5de7819ba9   \n",
       "4  5ef421be-7631-11e4-a3cb-005056011aef   \n",
       "\n",
       "                                           dest_node  source  \\\n",
       "0                                         /visa-fees   33265   \n",
       "1                    /find-a-visa-application-centre   58314   \n",
       "2                                    /uk-family-visa   23720   \n",
       "3                     /uk-family-visa/partner-spouse   25053   \n",
       "4  /government/publications/application-for-uk-vi...   14044   \n",
       "\n",
       "                                src_cid  \\\n",
       "0  5ef7560d-7631-11e4-a3cb-005056011aef   \n",
       "1  1e333395-5dd5-4452-96a3-fbe939928761   \n",
       "2  d612c61e-22f4-4922-8bb2-b04b9202126e   \n",
       "3  305acc88-488e-44ec-8e5a-1a5de7819ba9   \n",
       "4  305acc88-488e-44ec-8e5a-1a5de7819ba9   \n",
       "\n",
       "                                            src_node  target   weight  \\\n",
       "0  /government/publications/guidance-for-dependan...   58314     66.0   \n",
       "1                                         /visa-fees   12343   1164.0   \n",
       "2                  /entering-staying-uk/family-visas   25053    377.0   \n",
       "3                                    /uk-family-visa   14044  26227.0   \n",
       "4                     /uk-family-visa/partner-spouse   33797   2733.0   \n",
       "\n",
       "       edge-id  \n",
       "0  33265-58314  \n",
       "1  58314-12343  \n",
       "2  23720-25053  \n",
       "3  25053-14044  \n",
       "4  14044-33797  "
      ]
     },
     "execution_count": 104,
     "metadata": {},
     "output_type": "execute_result"
    }
   ],
   "source": [
    "edges.head()"
   ]
  },
  {
   "cell_type": "code",
   "execution_count": 105,
   "metadata": {},
   "outputs": [],
   "source": [
    "nodes_b = set(list(dfb.Source_node.values) + list(dfb.Destination_node.values))"
   ]
  },
  {
   "cell_type": "code",
   "execution_count": 106,
   "metadata": {},
   "outputs": [
    {
     "data": {
      "text/plain": [
       "65194"
      ]
     },
     "execution_count": 106,
     "metadata": {},
     "output_type": "execute_result"
    }
   ],
   "source": [
    "len(nodes_b)"
   ]
  },
  {
   "cell_type": "code",
   "execution_count": 107,
   "metadata": {},
   "outputs": [],
   "source": [
    "nodes = set(list(edges.src_node.values) + list(edges.dest_node.values))"
   ]
  },
  {
   "cell_type": "code",
   "execution_count": 108,
   "metadata": {},
   "outputs": [
    {
     "data": {
      "text/plain": [
       "(79302, 36632)"
      ]
     },
     "execution_count": 108,
     "metadata": {},
     "output_type": "execute_result"
    }
   ],
   "source": [
    "len(nodes.difference(nodes_b)), len(nodes_b.difference(nodes))"
   ]
  },
  {
   "cell_type": "code",
   "execution_count": 109,
   "metadata": {},
   "outputs": [],
   "source": [
    "def build_dict(k1,v1,k2,v2):\n",
    "    agg_dict = dict(zip(k1,v1))\n",
    "    for key,value in zip(k2,v2):\n",
    "        if key not in agg_dict.keys():\n",
    "            agg_dict[key] = value\n",
    "    return agg_dict   "
   ]
  },
  {
   "cell_type": "code",
   "execution_count": 110,
   "metadata": {},
   "outputs": [],
   "source": [
    "nid_cid = build_dict(edges.source, edges.src_cid, edges.target, edges.dest_cid)\n",
    "nid_url = build_dict(edges.source, edges.src_node, edges.target, edges.dest_node)\n",
    "url_nid = build_dict(edges.src_node, edges.source, edges.dest_node, edges.target)"
   ]
  },
  {
   "cell_type": "code",
   "execution_count": 111,
   "metadata": {},
   "outputs": [
    {
     "data": {
      "text/plain": [
       "107864"
      ]
     },
     "execution_count": 111,
     "metadata": {},
     "output_type": "execute_result"
    }
   ],
   "source": [
    "max_nid = max(url_nid.values()) +1\n",
    "max_nid"
   ]
  },
  {
   "cell_type": "code",
   "execution_count": 112,
   "metadata": {},
   "outputs": [],
   "source": [
    "for node in nodes_b:\n",
    "    if node not in url_nid.keys():\n",
    "        url_nid[node] = max_nid\n",
    "        max_nid +=1"
   ]
  },
  {
   "cell_type": "code",
   "execution_count": 113,
   "metadata": {},
   "outputs": [
    {
     "data": {
      "text/plain": [
       "144495"
      ]
     },
     "execution_count": 113,
     "metadata": {},
     "output_type": "execute_result"
    }
   ],
   "source": [
    "max(url_nid.values())"
   ]
  },
  {
   "cell_type": "code",
   "execution_count": 114,
   "metadata": {},
   "outputs": [],
   "source": [
    "dfb['source'] = dfb.Source_node.map(url_nid)\n",
    "dfb['target'] = dfb.Destination_node.map(url_nid)"
   ]
  },
  {
   "cell_type": "code",
   "execution_count": 117,
   "metadata": {},
   "outputs": [
    {
     "data": {
      "text/plain": [
       "Index(['Source_node', 'Destination_node', 'Weight', 'source', 'target'], dtype='object')"
      ]
     },
     "execution_count": 117,
     "metadata": {},
     "output_type": "execute_result"
    }
   ],
   "source": [
    "dfb.columns"
   ]
  },
  {
   "cell_type": "code",
   "execution_count": 116,
   "metadata": {},
   "outputs": [],
   "source": [
    "dfb.drop(['Source_id', 'Destination_id'], axis=1, inplace=True)"
   ]
  },
  {
   "cell_type": "code",
   "execution_count": 120,
   "metadata": {},
   "outputs": [],
   "source": [
    "dfb.rename(columns={'Source_node':'src_node',\n",
    "                    'Destination_node':'dest_node',\n",
    "                    'Weight':'weight'}, inplace=True)"
   ]
  },
  {
   "cell_type": "code",
   "execution_count": 121,
   "metadata": {},
   "outputs": [],
   "source": [
    "dfb['src_cid'] = dfb.source.map(nid_cid)\n",
    "dfb['dest_cid'] = dfb.target.map(nid_cid)"
   ]
  },
  {
   "cell_type": "code",
   "execution_count": 126,
   "metadata": {},
   "outputs": [
    {
     "data": {
      "text/plain": [
       "Index(['dest_cid', 'dest_node', 'source', 'src_cid', 'src_node', 'target',\n",
       "       'weight', 'edge-id'],\n",
       "      dtype='object')"
      ]
     },
     "execution_count": 126,
     "metadata": {},
     "output_type": "execute_result"
    }
   ],
   "source": [
    "edges.columns"
   ]
  },
  {
   "cell_type": "markdown",
   "metadata": {},
   "source": [
    "## Save out relevant stuff"
   ]
  },
  {
   "cell_type": "code",
   "execution_count": 131,
   "metadata": {},
   "outputs": [],
   "source": [
    "dfb['edge-id'] = dfb[['source', 'target']].apply(lambda x: \"{}-{}\".format(x[0],x[1]), axis=1)"
   ]
  },
  {
   "cell_type": "code",
   "execution_count": 137,
   "metadata": {},
   "outputs": [],
   "source": [
    "outs = dfb[~dfb['edge-id'].isin(edges['edge-id'].values)]"
   ]
  },
  {
   "cell_type": "code",
   "execution_count": 139,
   "metadata": {},
   "outputs": [
    {
     "data": {
      "text/plain": [
       "((242200, 8), (334812, 8))"
      ]
     },
     "execution_count": 139,
     "metadata": {},
     "output_type": "execute_result"
    }
   ],
   "source": [
    "outs.shape, dfb.shape"
   ]
  },
  {
   "cell_type": "code",
   "execution_count": 147,
   "metadata": {},
   "outputs": [],
   "source": [
    "merged_edgefile = os.path.join(train_network, \"merged_edges_struct_funct_w_brexit.csv.gz\")"
   ]
  },
  {
   "cell_type": "code",
   "execution_count": 148,
   "metadata": {},
   "outputs": [],
   "source": [
    "merged = pd.concat([outs,edges], sort=True, ignore_index=True)"
   ]
  },
  {
   "cell_type": "code",
   "execution_count": 151,
   "metadata": {},
   "outputs": [
    {
     "data": {
      "text/plain": [
       "((505956, 8), (263756, 8), (242200, 8))"
      ]
     },
     "execution_count": 151,
     "metadata": {},
     "output_type": "execute_result"
    }
   ],
   "source": [
    "merged.shape, edges.shape, outs.shape"
   ]
  },
  {
   "cell_type": "code",
   "execution_count": 153,
   "metadata": {},
   "outputs": [],
   "source": [
    "merged.to_csv(merged_edgefile, compression='gzip', sep='\\t', index=False)"
   ]
  },
  {
   "cell_type": "markdown",
   "metadata": {},
   "source": [
    "## Save out only brexit edges \n",
    "not included in original edgelist that was used to train n2viteration 1"
   ]
  },
  {
   "cell_type": "code",
   "execution_count": 145,
   "metadata": {},
   "outputs": [],
   "source": [
    "outs_edgefile = os.path.join(train_network, \"funct_only_brexit_1902_3003.csv.gz\")"
   ]
  },
  {
   "cell_type": "code",
   "execution_count": 154,
   "metadata": {},
   "outputs": [],
   "source": [
    "outs.to_csv(outs_edgefile, compression='gzip', sep='\\t', index=False)"
   ]
  },
  {
   "cell_type": "code",
   "execution_count": null,
   "metadata": {},
   "outputs": [],
   "source": []
  }
 ],
 "metadata": {
  "kernelspec": {
   "display_name": "Python 3",
   "language": "python",
   "name": "python3"
  },
  "language_info": {
   "codemirror_mode": {
    "name": "ipython",
    "version": 3
   },
   "file_extension": ".py",
   "mimetype": "text/x-python",
   "name": "python",
   "nbconvert_exporter": "python",
   "pygments_lexer": "ipython3",
   "version": "3.6.0"
  }
 },
 "nbformat": 4,
 "nbformat_minor": 2
}
